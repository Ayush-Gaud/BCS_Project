{
 "cells": [
  {
   "cell_type": "code",
   "execution_count": 14,
   "id": "51ccf596",
   "metadata": {},
   "outputs": [],
   "source": [
    "import re\n",
    "import string \n",
    "from nltk.corpus import stopwords \n",
    "from nltk.stem import PorterStemmer \n",
    "from nltk.tokenize import TweetTokenizer \n",
    "import numpy as np "
   ]
  },
  {
   "cell_type": "code",
   "execution_count": 15,
   "id": "e0a7eb2c",
   "metadata": {},
   "outputs": [],
   "source": [
    "# Preprocessing tweets\n",
    "def process_tweet(tweet):\n",
    "\n",
    "    # Removing old style retweet text 'RT'\n",
    "    tweet2 = re.sub(r'^RT[/s]','',tweet)\n",
    "\n",
    "    # Removing URL's \n",
    "    tweet2 = re.sub(r'https?:\\/\\/.*[\\r\\n]*','',tweet2)\n",
    "\n",
    "    # Removing '#'\n",
    "    tweet2 = re.sub(r'#' ,'',tweet2)\n",
    "\n",
    "    # Instantiate tokenizer class\n",
    "    tokenizer = TweetTokenizer(preserve_case=False ,strip_handles=True ,reduce_len=True)\n",
    "\n",
    "    # Tokenize tweets\n",
    "    tweet_tokens = tokenizer.tokenize(tweet2)\n",
    "\n",
    "    # Import stopwords\n",
    "    stopwords_english = stopwords.words(\"english\")\n",
    "\n",
    "    # List of words without stopwords \n",
    "    tweets_clean = []\n",
    "    for word in tweet_tokens:\n",
    "        if word not in stopwords_english and word not in string.punctuation:\n",
    "            tweets_clean.append(word)\n",
    "\n",
    "    # Instantiate stemming class \n",
    "    stemmer = PorterStemmer()\n",
    "\n",
    "    # List of stems in tweets \n",
    "    tweet_stems = []\n",
    "    for word in tweets_clean:\n",
    "        stem_word = stemmer.stem(word)\n",
    "        tweet_stems.append(stem_word)\n",
    "\n",
    "    return tweet_stems"
   ]
  },
  {
   "cell_type": "code",
   "execution_count": 16,
   "id": "24be225e",
   "metadata": {},
   "outputs": [],
   "source": [
    "# Frequency generating function\n",
    "def build_freqs(tweets, ys):\n",
    "    yslist = np.squeeze(ys).tolist() # squeezes ys into a 1-D array and then converts it into list.\n",
    "\n",
    "    freqs = {}\n",
    "    for y,tweet in zip(yslist ,tweets):  # zip creates pairs of elements.\n",
    "        for word in process_tweet(tweet):\n",
    "            pair = (word, y)\n",
    "            freqs[pair] = freqs.get(pair, 0) + 1  # if pair is not present in the freqs dictionary \n",
    "                                                  # then initialize it to 0 and then update frequency\n",
    "                                                  # count by 1. \n",
    "    return freqs\n"
   ]
  },
  {
   "cell_type": "code",
   "execution_count": 18,
   "id": "26dca10d",
   "metadata": {},
   "outputs": [],
   "source": [
    "def extract_features(tweet ,freqs):\n",
    "\n",
    "    # pre-process tweet\n",
    "    word_l = process_tweet(tweet)\n",
    "\n",
    "    # 3 elements in the form of a 1x3 matrix\n",
    "    x = np.zeros((1,3))\n",
    "\n",
    "    # bias term is set to 1\n",
    "    x[0,0] = 1\n",
    "\n",
    "    # looping through each word\n",
    "    for word in word_l:\n",
    "\n",
    "        # increment the word count for positive label 1\n",
    "        x[0,1] += freqs.get((word,1),0)   # returns 0 as default value if positive label is not present.\n",
    "\n",
    "        # increment the word count for negative label 0\n",
    "        x[0,2] += freqs.get((word,0),0)\n",
    "    \n",
    "    assert(x.shape == (1,3)) # Raises error if condition is not true\n",
    "\n",
    "    return x"
   ]
  },
  {
   "cell_type": "code",
   "execution_count": 19,
   "id": "b703f0a9",
   "metadata": {},
   "outputs": [
    {
     "name": "stderr",
     "output_type": "stream",
     "text": [
      "[nltk_data] Downloading package twitter_samples to\n",
      "[nltk_data]     C:\\Users\\ayush\\AppData\\Roaming\\nltk_data...\n",
      "[nltk_data]   Package twitter_samples is already up-to-date!\n"
     ]
    }
   ],
   "source": [
    "import nltk\n",
    "\n",
    "nltk.download('twitter_samples')\n",
    "\n",
    "from nltk.corpus import twitter_samples\n",
    "all_positive_tweets=twitter_samples.strings('positive_tweets.json')\n",
    "all_negative_tweets=twitter_samples.strings('negative_tweets.json')"
   ]
  },
  {
   "cell_type": "code",
   "execution_count": 20,
   "id": "d9113694",
   "metadata": {},
   "outputs": [],
   "source": [
    "# Splitting the data into testing data and training data\n",
    "\n",
    "test_pos = all_positive_tweets[4000:]\n",
    "train_pos = all_positive_tweets[:4000]\n",
    "test_neg = all_negative_tweets[4000:]\n",
    "train_neg = all_negative_tweets[:4000]\n",
    "\n",
    "train_x = train_pos + train_neg \n",
    "test_x = test_pos + test_neg \n",
    "\n",
    "# Combining the data for positive and negative labels\n",
    "train_y = np.append(np.ones((len(train_pos) ,1)) , np.zeros((len(train_neg) ,1)) ,axis=0)\n",
    "test_y = np.append(np.ones((len(test_pos) ,1)) , np.zeros((len(test_neg) ,1)) ,axis=0)"
   ]
  },
  {
   "cell_type": "code",
   "execution_count": 21,
   "id": "6db12f29",
   "metadata": {},
   "outputs": [],
   "source": [
    "# Build frequency dictionary from training data\n",
    "freqs = build_freqs(train_x, train_y)"
   ]
  },
  {
   "cell_type": "code",
   "execution_count": 22,
   "id": "c62cf1df",
   "metadata": {},
   "outputs": [],
   "source": [
    "# Build training feature matrix\n",
    "X_train = np.zeros((len(train_x), 3))\n",
    "for i, tweet in enumerate(train_x):\n",
    "    X_train[i, :] = extract_features(tweet, freqs)\n",
    "\n",
    "# Build test feature matrix\n",
    "X_test = np.zeros((len(test_x), 3))\n",
    "for i, tweet in enumerate(test_x):\n",
    "    X_test[i, :] = extract_features(tweet, freqs)\n"
   ]
  },
  {
   "cell_type": "code",
   "execution_count": 23,
   "id": "25543925",
   "metadata": {},
   "outputs": [],
   "source": [
    "def train_naive_bayes(freqs, train_x, train_y):\n",
    "    # Calculate priors\n",
    "    N_pos = np.sum(train_y)\n",
    "    N_neg = len(train_y) - N_pos\n",
    "    logprior = np.log(N_pos / N_neg)\n",
    "    \n",
    "    # Build vocabulary\n",
    "    vocab = set([pair[0] for pair in freqs.keys()])\n",
    "    V = len(vocab)\n",
    "    \n",
    "    # Count total number of words in positive and negative tweets\n",
    "    word_counts_pos = 0\n",
    "    word_counts_neg = 0\n",
    "    for pair in freqs:\n",
    "        if pair[1] == 1:\n",
    "            word_counts_pos += freqs[pair]\n",
    "        else:\n",
    "            word_counts_neg += freqs[pair]\n",
    "    \n",
    "    # Likelihoods with Laplace smoothing\n",
    "    loglikelihood = {}\n",
    "    for word in vocab:\n",
    "        freq_pos = freqs.get((word, 1), 0)\n",
    "        freq_neg = freqs.get((word, 0), 0)\n",
    "        # Laplace smoothing\n",
    "        p_w_pos = (freq_pos + 1) / (word_counts_pos + V)\n",
    "        p_w_neg = (freq_neg + 1) / (word_counts_neg + V)\n",
    "        loglikelihood[word] = np.log(p_w_pos / p_w_neg)\n",
    "    \n",
    "    return logprior, loglikelihood\n"
   ]
  },
  {
   "cell_type": "code",
   "execution_count": 24,
   "id": "dccee8e4",
   "metadata": {},
   "outputs": [],
   "source": [
    "def naive_bayes_predict(tweet, logprior, loglikelihood):\n",
    "    words = process_tweet(tweet)\n",
    "    p = logprior\n",
    "    for word in words:\n",
    "        if word in loglikelihood:\n",
    "            p += loglikelihood[word]\n",
    "    return 1 if p > 0 else 0"
   ]
  },
  {
   "cell_type": "code",
   "execution_count": 25,
   "id": "e07f4889",
   "metadata": {},
   "outputs": [],
   "source": [
    "logprior, loglikelihood = train_naive_bayes(freqs, train_x, train_y)"
   ]
  },
  {
   "cell_type": "code",
   "execution_count": 26,
   "id": "944ab9a8",
   "metadata": {},
   "outputs": [
    {
     "name": "stdout",
     "output_type": "stream",
     "text": [
      "Test Accuracy: 99.40%\n"
     ]
    }
   ],
   "source": [
    "# Predict on test set\n",
    "y_pred = []\n",
    "for tweet in test_x:\n",
    "    y_pred.append(naive_bayes_predict(tweet, logprior, loglikelihood))\n",
    "y_pred = np.array(y_pred)\n",
    "\n",
    "# Calculate accuracy\n",
    "accuracy = np.mean(y_pred == test_y.flatten()) * 100\n",
    "print(f\"Test Accuracy: {accuracy:.2f}%\")\n"
   ]
  },
  {
   "cell_type": "code",
   "execution_count": null,
   "id": "0d4be99c",
   "metadata": {},
   "outputs": [],
   "source": []
  }
 ],
 "metadata": {
  "kernelspec": {
   "display_name": "Python 3",
   "language": "python",
   "name": "python3"
  },
  "language_info": {
   "codemirror_mode": {
    "name": "ipython",
    "version": 3
   },
   "file_extension": ".py",
   "mimetype": "text/x-python",
   "name": "python",
   "nbconvert_exporter": "python",
   "pygments_lexer": "ipython3",
   "version": "3.11.6"
  }
 },
 "nbformat": 4,
 "nbformat_minor": 5
}
