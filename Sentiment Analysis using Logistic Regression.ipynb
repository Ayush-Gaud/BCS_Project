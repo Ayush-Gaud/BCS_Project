{
 "cells": [
  {
   "cell_type": "code",
   "execution_count": 21,
   "metadata": {},
   "outputs": [],
   "source": [
    "import re\n",
    "import string \n",
    "from nltk.corpus import stopwords \n",
    "from nltk.stem import PorterStemmer \n",
    "from nltk.tokenize import TweetTokenizer \n",
    "import numpy as np "
   ]
  },
  {
   "cell_type": "code",
   "execution_count": 22,
   "metadata": {},
   "outputs": [],
   "source": [
    "# Preprocessing tweets\n",
    "def process_tweet(tweet):\n",
    "\n",
    "    # Removing old style retweet text 'RT'\n",
    "    tweet2 = re.sub(r'^RT[/s]','',tweet)\n",
    "\n",
    "    # Removing URL's \n",
    "    tweet2 = re.sub(r'https?:\\/\\/.*[\\r\\n]*','',tweet2)\n",
    "\n",
    "    # Removing '#'\n",
    "    tweet2 = re.sub(r'#' ,'',tweet2)\n",
    "\n",
    "    # Instantiate tokenizer class\n",
    "    tokenizer = TweetTokenizer(preserve_case=False ,strip_handles=True ,reduce_len=True)\n",
    "\n",
    "    # Tokenize tweets\n",
    "    tweet_tokens = tokenizer.tokenize(tweet2)\n",
    "\n",
    "    # Import stopwords\n",
    "    stopwords_english = stopwords.download(\"English\")\n",
    "\n",
    "    # List of words without stopwords \n",
    "    tweets_clean = []\n",
    "    for word in tweet_tokens:\n",
    "        if word not in stopwords_english and word not in string.punctuation:\n",
    "            tweets_clean.append(word)\n",
    "\n",
    "    # Instantiate stemming class \n",
    "    stemmer = PorterStemmer()\n",
    "\n",
    "    # List of stems in tweets \n",
    "    tweet_stems = []\n",
    "    for word in tweets_clean:\n",
    "        stem_word = stemmer.stem(word)\n",
    "        tweet_stems.append(stem_word)\n",
    "\n",
    "    return tweet_stems"
   ]
  },
  {
   "cell_type": "code",
   "execution_count": 23,
   "metadata": {},
   "outputs": [],
   "source": [
    "# Frequency generating function\n",
    "def build_freqs(tweets, ys):\n",
    "    yslist = np.squeeze(ys).tolist() # squeezes ys into a 1-D array and then converts it into list.\n",
    "\n",
    "    freqs = {}\n",
    "    for y,tweet in zip(yslist ,tweets):  # zip creates pairs of elements.\n",
    "        for word in process_tweet(tweet):\n",
    "            pair = (word, y)\n",
    "            freqs[pair] = freqs.get(pair, 0) + 1  # if pair is not present in the freqs dictionary \n",
    "                                                  # then initialize it to 0 and then update frequency\n",
    "                                                  # count by 1. \n",
    "    return freqs\n"
   ]
  },
  {
   "cell_type": "code",
   "execution_count": 24,
   "metadata": {},
   "outputs": [],
   "source": [
    "def sigmoid(z):\n",
    "    h = 1/(1+np.exp(-z))  \n",
    "    return h # Hypothesis\n",
    "\n",
    "# h(x^(i), 0) = 1/(1+e^-(0^T*x^(i))) , this is basically y_pred"
   ]
  },
  {
   "cell_type": "code",
   "execution_count": 25,
   "metadata": {},
   "outputs": [],
   "source": [
    "def gradientDescent(x, y, theta, learning_rate, num_iters):\n",
    "\n",
    "    m = len(x)       \n",
    "\n",
    "    for i in range(0, num_iters):\n",
    "\n",
    "        z = np.dot(x, theta)\n",
    "        h = sigmoid(z)\n",
    "\n",
    "        J = (-1/m)*(np.dot(y.T ,np.log(h)) + (np.dot((1-y.T) ,np.log(1-h))))  # Cost Function.\n",
    "\n",
    "        theta -= learning_rate*(1/m)*np.dot(x.T ,h-y)\n",
    "\n",
    "    J = float(J)\n",
    "    return J,theta \n",
    "\n",
    "# x = feature matrix = (m,n+1)\n",
    "# y = target variable = (m,1)\n",
    "# theta = weight matrix = (n+1,1)\n"
   ]
  },
  {
   "cell_type": "code",
   "execution_count": 26,
   "metadata": {},
   "outputs": [],
   "source": [
    "def extract_features(tweet ,freqs):\n",
    "\n",
    "    # pre-process tweet\n",
    "    word_l = process_tweet(tweet)\n",
    "\n",
    "    # 3 elements in the form of a 1x3 matrix\n",
    "    x = np.zeros((1,3))\n",
    "\n",
    "    # bias term is set to 1\n",
    "    x[0,0] = 1\n",
    "\n",
    "    # looping through each word\n",
    "    for word in word_l:\n",
    "\n",
    "        # increment the word count for positive label 1\n",
    "        x[0,1] += freqs.get((word,1),0)   # returns 0 as default value if positive label is not present.\n",
    "\n",
    "        # increment the word count for negative label 0\n",
    "        x[0,2] += freqs.get((word,0),0)\n",
    "    \n",
    "    assert(x.shape == (1,3)) # Raises error if condition is not true\n",
    "\n",
    "    return x"
   ]
  },
  {
   "cell_type": "code",
   "execution_count": 27,
   "metadata": {},
   "outputs": [
    {
     "name": "stderr",
     "output_type": "stream",
     "text": [
      "[nltk_data] Downloading package twitter_samples to\n",
      "[nltk_data]     C:\\Users\\ayush\\AppData\\Roaming\\nltk_data...\n",
      "[nltk_data]   Package twitter_samples is already up-to-date!\n"
     ]
    }
   ],
   "source": [
    "import nltk\n",
    "\n",
    "nltk.download('twitter_samples')\n",
    "\n",
    "from nltk.corpus import twitter_samples\n",
    "all_positive_tweets=twitter_samples.strings('positive_tweets.json')\n",
    "all_negative_tweets=twitter_samples.strings('negative_tweets.json')"
   ]
  },
  {
   "cell_type": "code",
   "execution_count": 28,
   "metadata": {},
   "outputs": [],
   "source": [
    "# Splitting the data into testing data and training data\n",
    "\n",
    "test_pos = all_positive_tweets[4000:]\n",
    "train_pos = all_positive_tweets[:4000]\n",
    "test_neg = all_negative_tweets[4000:]\n",
    "train_neg = all_negative_tweets[:4000]\n",
    "\n",
    "train_x = train_pos + train_neg \n",
    "test_x = test_pos + test_neg \n",
    "\n",
    "# Combining the data for positive and negative labels\n",
    "train_y = np.append(np.ones((len(train_pos) ,1)) , np.zeros((len(train_neg) ,1)) ,axis=0)\n",
    "test_y = np.append(np.ones((len(test_pos) ,1)) , np.zeros((len(test_neg) ,1)) ,axis=0)"
   ]
  }
 ],
 "metadata": {
  "kernelspec": {
   "display_name": "Python 3",
   "language": "python",
   "name": "python3"
  },
  "language_info": {
   "codemirror_mode": {
    "name": "ipython",
    "version": 3
   },
   "file_extension": ".py",
   "mimetype": "text/x-python",
   "name": "python",
   "nbconvert_exporter": "python",
   "pygments_lexer": "ipython3",
   "version": "3.11.6"
  }
 },
 "nbformat": 4,
 "nbformat_minor": 2
}
